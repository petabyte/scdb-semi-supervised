{
 "cells": [
  {
   "cell_type": "code",
   "execution_count": 1,
   "metadata": {},
   "outputs": [],
   "source": [
    "import pandas as pd"
   ]
  },
  {
   "cell_type": "code",
   "execution_count": 2,
   "metadata": {},
   "outputs": [],
   "source": [
    "semi_training_df = pd.read_pickle('semi_super_training_data_with_use_vectors_80.zip', compression='zip')"
   ]
  },
  {
   "cell_type": "code",
   "execution_count": 3,
   "metadata": {},
   "outputs": [
    {
     "data": {
      "text/html": [
       "<div>\n",
       "<style scoped>\n",
       "    .dataframe tbody tr th:only-of-type {\n",
       "        vertical-align: middle;\n",
       "    }\n",
       "\n",
       "    .dataframe tbody tr th {\n",
       "        vertical-align: top;\n",
       "    }\n",
       "\n",
       "    .dataframe thead th {\n",
       "        text-align: right;\n",
       "    }\n",
       "</style>\n",
       "<table border=\"1\" class=\"dataframe\">\n",
       "  <thead>\n",
       "    <tr style=\"text-align: right;\">\n",
       "      <th></th>\n",
       "      <th>caseId</th>\n",
       "      <th>issue</th>\n",
       "      <th>issueArea</th>\n",
       "      <th>textID</th>\n",
       "      <th>year</th>\n",
       "      <th>caserRef</th>\n",
       "      <th>caseTitle</th>\n",
       "      <th>url</th>\n",
       "      <th>source</th>\n",
       "      <th>extra</th>\n",
       "      <th>text</th>\n",
       "      <th>sentences</th>\n",
       "      <th>use_vector_document</th>\n",
       "      <th>use_vectors_sentences</th>\n",
       "    </tr>\n",
       "  </thead>\n",
       "  <tbody>\n",
       "    <tr>\n",
       "      <th>0</th>\n",
       "      <td>20139</td>\n",
       "      <td>80180.0</td>\n",
       "      <td>8.0</td>\n",
       "      <td>12651</td>\n",
       "      <td>1947</td>\n",
       "      <td>329 U.S. 402</td>\n",
       "      <td>MACGREGOR v. WESTINGHOUSE ELEC. &amp; MFG. CO.</td>\n",
       "      <td>http://caselaw.findlaw.com/us-supreme-court/32...</td>\n",
       "      <td>F</td>\n",
       "      <td>NaN</td>\n",
       "      <td>\\n\\nUnited States Supreme Court\\nMACGREGOR v. ...</td>\n",
       "      <td>[United States Supreme Court MACGREGOR v. WEST...</td>\n",
       "      <td>[-0.04884209, -0.048947934, -0.04890484, -0.04...</td>\n",
       "      <td>[[-0.013934686, -0.07394203, -0.05866094, 0.01...</td>\n",
       "    </tr>\n",
       "    <tr>\n",
       "      <th>1</th>\n",
       "      <td>20145</td>\n",
       "      <td>10180.0</td>\n",
       "      <td>1.0</td>\n",
       "      <td>12657</td>\n",
       "      <td>1947</td>\n",
       "      <td>329 U.S. 459</td>\n",
       "      <td>STATE OF LA. EX REL. FRANCIS v. RESWEBER</td>\n",
       "      <td>http://caselaw.findlaw.com/us-supreme-court/32...</td>\n",
       "      <td>F</td>\n",
       "      <td>NaN</td>\n",
       "      <td>\\n\\nUnited States Supreme Court\\nSTATE OF LA. ...</td>\n",
       "      <td>[United States Supreme Court STATE OF LA. EX R...</td>\n",
       "      <td>[-0.047839925, -0.047336612, -0.04786167, -0.0...</td>\n",
       "      <td>[[0.013521832, -0.03266371, -0.045309477, -0.0...</td>\n",
       "    </tr>\n",
       "    <tr>\n",
       "      <th>2</th>\n",
       "      <td>20157</td>\n",
       "      <td>100030.0</td>\n",
       "      <td>10.0</td>\n",
       "      <td>12669</td>\n",
       "      <td>1947</td>\n",
       "      <td>329 U.S. 637</td>\n",
       "      <td>TRANSPARENT-WRAP MACH. CORP. v. STOKES &amp; SMITH...</td>\n",
       "      <td>http://caselaw.findlaw.com/us-supreme-court/32...</td>\n",
       "      <td>F</td>\n",
       "      <td>NaN</td>\n",
       "      <td>\\n\\nUnited States Supreme Court\\nTRANSPARENT-W...</td>\n",
       "      <td>[United States Supreme Court TRANSPARENT-WRAP ...</td>\n",
       "      <td>[-0.0437009, -0.048328746, -0.04831757, -0.048...</td>\n",
       "      <td>[[-0.012349652, -0.074392684, -0.07445395, 0.0...</td>\n",
       "    </tr>\n",
       "    <tr>\n",
       "      <th>3</th>\n",
       "      <td>20160</td>\n",
       "      <td>90130.0</td>\n",
       "      <td>9.0</td>\n",
       "      <td>12673</td>\n",
       "      <td>1947</td>\n",
       "      <td>329 U.S. 663</td>\n",
       "      <td>DE MEERLEER v. PEOPLE OF STATE OF MICHIGAN</td>\n",
       "      <td>http://caselaw.findlaw.com/us-supreme-court/32...</td>\n",
       "      <td>F</td>\n",
       "      <td>NaN</td>\n",
       "      <td>\\n\\nUnited States Supreme Court\\nDE MEERLEER v...</td>\n",
       "      <td>[United States Supreme Court DE MEERLEER v. PE...</td>\n",
       "      <td>[-0.05689634, 0.007963328, -0.057454657, -0.00...</td>\n",
       "      <td>[[0.028541151, -0.06703308, -0.082688704, 0.01...</td>\n",
       "    </tr>\n",
       "    <tr>\n",
       "      <th>4</th>\n",
       "      <td>20173</td>\n",
       "      <td>80060.0</td>\n",
       "      <td>8.0</td>\n",
       "      <td>12697</td>\n",
       "      <td>1947</td>\n",
       "      <td>330 U.S. 386</td>\n",
       "      <td>TESTA v. KATT</td>\n",
       "      <td>http://caselaw.findlaw.com/us-supreme-court/33...</td>\n",
       "      <td>F</td>\n",
       "      <td>NaN</td>\n",
       "      <td>\\n\\nUnited States Supreme Court\\nTESTA v. KATT...</td>\n",
       "      <td>[United States Supreme Court TESTA v. KATT(194...</td>\n",
       "      <td>[-0.05005872, -0.050213773, -0.050215896, 0.04...</td>\n",
       "      <td>[[-0.018176783, -0.057917874, -0.06362177, 0.0...</td>\n",
       "    </tr>\n",
       "  </tbody>\n",
       "</table>\n",
       "</div>"
      ],
      "text/plain": [
       "   caseId     issue  issueArea  textID  year      caserRef  \\\n",
       "0   20139   80180.0        8.0   12651  1947  329 U.S. 402   \n",
       "1   20145   10180.0        1.0   12657  1947  329 U.S. 459   \n",
       "2   20157  100030.0       10.0   12669  1947  329 U.S. 637   \n",
       "3   20160   90130.0        9.0   12673  1947  329 U.S. 663   \n",
       "4   20173   80060.0        8.0   12697  1947  330 U.S. 386   \n",
       "\n",
       "                                           caseTitle  \\\n",
       "0         MACGREGOR v. WESTINGHOUSE ELEC. & MFG. CO.   \n",
       "1           STATE OF LA. EX REL. FRANCIS v. RESWEBER   \n",
       "2  TRANSPARENT-WRAP MACH. CORP. v. STOKES & SMITH...   \n",
       "3         DE MEERLEER v. PEOPLE OF STATE OF MICHIGAN   \n",
       "4                                      TESTA v. KATT   \n",
       "\n",
       "                                                 url source  extra  \\\n",
       "0  http://caselaw.findlaw.com/us-supreme-court/32...      F    NaN   \n",
       "1  http://caselaw.findlaw.com/us-supreme-court/32...      F    NaN   \n",
       "2  http://caselaw.findlaw.com/us-supreme-court/32...      F    NaN   \n",
       "3  http://caselaw.findlaw.com/us-supreme-court/32...      F    NaN   \n",
       "4  http://caselaw.findlaw.com/us-supreme-court/33...      F    NaN   \n",
       "\n",
       "                                                text  \\\n",
       "0  \\n\\nUnited States Supreme Court\\nMACGREGOR v. ...   \n",
       "1  \\n\\nUnited States Supreme Court\\nSTATE OF LA. ...   \n",
       "2  \\n\\nUnited States Supreme Court\\nTRANSPARENT-W...   \n",
       "3  \\n\\nUnited States Supreme Court\\nDE MEERLEER v...   \n",
       "4  \\n\\nUnited States Supreme Court\\nTESTA v. KATT...   \n",
       "\n",
       "                                           sentences  \\\n",
       "0  [United States Supreme Court MACGREGOR v. WEST...   \n",
       "1  [United States Supreme Court STATE OF LA. EX R...   \n",
       "2  [United States Supreme Court TRANSPARENT-WRAP ...   \n",
       "3  [United States Supreme Court DE MEERLEER v. PE...   \n",
       "4  [United States Supreme Court TESTA v. KATT(194...   \n",
       "\n",
       "                                 use_vector_document  \\\n",
       "0  [-0.04884209, -0.048947934, -0.04890484, -0.04...   \n",
       "1  [-0.047839925, -0.047336612, -0.04786167, -0.0...   \n",
       "2  [-0.0437009, -0.048328746, -0.04831757, -0.048...   \n",
       "3  [-0.05689634, 0.007963328, -0.057454657, -0.00...   \n",
       "4  [-0.05005872, -0.050213773, -0.050215896, 0.04...   \n",
       "\n",
       "                               use_vectors_sentences  \n",
       "0  [[-0.013934686, -0.07394203, -0.05866094, 0.01...  \n",
       "1  [[0.013521832, -0.03266371, -0.045309477, -0.0...  \n",
       "2  [[-0.012349652, -0.074392684, -0.07445395, 0.0...  \n",
       "3  [[0.028541151, -0.06703308, -0.082688704, 0.01...  \n",
       "4  [[-0.018176783, -0.057917874, -0.06362177, 0.0...  "
      ]
     },
     "execution_count": 3,
     "metadata": {},
     "output_type": "execute_result"
    }
   ],
   "source": [
    "semi_training_df.head()"
   ]
  },
  {
   "cell_type": "code",
   "execution_count": 15,
   "metadata": {},
   "outputs": [
    {
     "name": "stdout",
     "output_type": "stream",
     "text": [
      "0  0                                                      \n",
      "   1                                                      \n",
      "   2      United States Supreme Court                     \n",
      "   3      MACGREGOR v. WESTINGHOUSE ELEC. & MFG. CO.(1947)\n",
      "   4      No. 28                                          \n",
      "           ...                                            \n",
      "   243                                                    \n",
      "   244                                                    \n",
      "   245                                                    \n",
      "   246                                                    \n",
      "   247                                                    \n",
      "Length: 248, dtype: object\n"
     ]
    },
    {
     "name": "stderr",
     "output_type": "stream",
     "text": [
      "c:\\users\\u0155811\\.conda\\envs\\tf-gpu\\lib\\site-packages\\ipykernel_launcher.py:1: FutureWarning: Passing a negative integer is deprecated in version 1.0 and will not be supported in future version. Instead, use None to not limit the column width.\n",
      "  \"\"\"Entry point for launching an IPython kernel.\n"
     ]
    }
   ],
   "source": [
    "pd.set_option('display.max_colwidth', -1)\n",
    "print(semi_training_df['text'].head(1).str.split(\"\\n\", expand=True).stack())"
   ]
  },
  {
   "cell_type": "code",
   "execution_count": null,
   "metadata": {},
   "outputs": [],
   "source": [
    "semi_training_df['sentences'].apply()"
   ]
  },
  {
   "cell_type": "code",
   "execution_count": 4,
   "metadata": {},
   "outputs": [],
   "source": [
    "labeled_test_df = pd.read_pickle('training_data_with_use_vectors.zip', compression='zip')"
   ]
  },
  {
   "cell_type": "code",
   "execution_count": 5,
   "metadata": {},
   "outputs": [
    {
     "name": "stdout",
     "output_type": "stream",
     "text": [
      "1571\n"
     ]
    },
    {
     "data": {
      "text/html": [
       "<div>\n",
       "<style scoped>\n",
       "    .dataframe tbody tr th:only-of-type {\n",
       "        vertical-align: middle;\n",
       "    }\n",
       "\n",
       "    .dataframe tbody tr th {\n",
       "        vertical-align: top;\n",
       "    }\n",
       "\n",
       "    .dataframe thead th {\n",
       "        text-align: right;\n",
       "    }\n",
       "</style>\n",
       "<table border=\"1\" class=\"dataframe\">\n",
       "  <thead>\n",
       "    <tr style=\"text-align: right;\">\n",
       "      <th></th>\n",
       "      <th>index</th>\n",
       "      <th>caseId</th>\n",
       "      <th>issue</th>\n",
       "      <th>issueArea</th>\n",
       "      <th>textID</th>\n",
       "      <th>year</th>\n",
       "      <th>caserRef</th>\n",
       "      <th>caseTitle</th>\n",
       "      <th>url</th>\n",
       "      <th>source</th>\n",
       "      <th>extra</th>\n",
       "      <th>text</th>\n",
       "      <th>sentences</th>\n",
       "      <th>use_vector_document</th>\n",
       "      <th>use_vectors_sentences</th>\n",
       "    </tr>\n",
       "  </thead>\n",
       "  <tbody>\n",
       "    <tr>\n",
       "      <th>0</th>\n",
       "      <td>0</td>\n",
       "      <td>20153</td>\n",
       "      <td>80060.0</td>\n",
       "      <td>8.0</td>\n",
       "      <td>12665</td>\n",
       "      <td>1947</td>\n",
       "      <td>329 U.S. 585</td>\n",
       "      <td>UNITED STATES v. THAYER-WEST POINT HOTEL CO.</td>\n",
       "      <td>http://caselaw.findlaw.com/us-supreme-court/32...</td>\n",
       "      <td>F</td>\n",
       "      <td>NaN</td>\n",
       "      <td>\\n\\nUnited States Supreme Court\\nUNITED STATES...</td>\n",
       "      <td>[United States Supreme Court UNITED STATES v. ...</td>\n",
       "      <td>[-0.052659504, -0.053288158, 0.012535233, -0.0...</td>\n",
       "      <td>[[-0.047054432, -0.056670554, -0.053410795, -0...</td>\n",
       "    </tr>\n",
       "    <tr>\n",
       "      <th>1</th>\n",
       "      <td>1</td>\n",
       "      <td>20165</td>\n",
       "      <td>10170.0</td>\n",
       "      <td>1.0</td>\n",
       "      <td>12689</td>\n",
       "      <td>1947</td>\n",
       "      <td>330 U.S. 160</td>\n",
       "      <td>BOZZA v. UNITED STATES</td>\n",
       "      <td>http://caselaw.findlaw.com/us-supreme-court/33...</td>\n",
       "      <td>F</td>\n",
       "      <td>NaN</td>\n",
       "      <td>\\n\\nUnited States Supreme Court\\nBOZZA v. UNIT...</td>\n",
       "      <td>[United States Supreme Court BOZZA v. UNITED S...</td>\n",
       "      <td>[-0.051812857, -0.05131605, -0.051742256, -0.0...</td>\n",
       "      <td>[[0.019217297, -0.082953066, -0.05535124, 0.04...</td>\n",
       "    </tr>\n",
       "    <tr>\n",
       "      <th>2</th>\n",
       "      <td>2</td>\n",
       "      <td>20166</td>\n",
       "      <td>20150.0</td>\n",
       "      <td>2.0</td>\n",
       "      <td>12690</td>\n",
       "      <td>1947</td>\n",
       "      <td>330 U.S. 169</td>\n",
       "      <td>CONFEDERATED BANDS OF UTE INDIANS v. UNITED ST...</td>\n",
       "      <td>http://caselaw.findlaw.com/us-supreme-court/33...</td>\n",
       "      <td>F</td>\n",
       "      <td>NaN</td>\n",
       "      <td>\\n\\nUnited States Supreme Court\\nCONFEDERATED ...</td>\n",
       "      <td>[United States Supreme Court CONFEDERATED BAND...</td>\n",
       "      <td>[-0.048780706, -0.049167294, -0.030382236, -0....</td>\n",
       "      <td>[[-0.041424736, -0.034228966, -0.021963209, 0....</td>\n",
       "    </tr>\n",
       "    <tr>\n",
       "      <th>3</th>\n",
       "      <td>3</td>\n",
       "      <td>20167</td>\n",
       "      <td>90460.0</td>\n",
       "      <td>9.0</td>\n",
       "      <td>12691</td>\n",
       "      <td>1947</td>\n",
       "      <td>330 U.S. 183</td>\n",
       "      <td>ANGEL v. BULLINGTON</td>\n",
       "      <td>http://caselaw.findlaw.com/us-supreme-court/33...</td>\n",
       "      <td>F</td>\n",
       "      <td>NaN</td>\n",
       "      <td>\\n\\nUnited States Supreme Court\\nANGEL v. BULL...</td>\n",
       "      <td>[United States Supreme Court ANGEL v. BULLINGT...</td>\n",
       "      <td>[-0.047752354, -0.047754914, -0.047755327, 0.0...</td>\n",
       "      <td>[[-0.048756346, -0.04744283, -0.009329788, -0....</td>\n",
       "    </tr>\n",
       "    <tr>\n",
       "      <th>4</th>\n",
       "      <td>4</td>\n",
       "      <td>20168</td>\n",
       "      <td>90330.0</td>\n",
       "      <td>9.0</td>\n",
       "      <td>12692</td>\n",
       "      <td>1947</td>\n",
       "      <td>330 U.S. 212</td>\n",
       "      <td>CONE v. WEST VIRGINIA PULP &amp; PAPER CO.</td>\n",
       "      <td>http://caselaw.findlaw.com/us-supreme-court/33...</td>\n",
       "      <td>F</td>\n",
       "      <td>NaN</td>\n",
       "      <td>\\n\\nUnited States Supreme Court\\nCONE v. WEST ...</td>\n",
       "      <td>[United States Supreme Court CONE v. WEST VIRG...</td>\n",
       "      <td>[-0.050865017, -0.05116918, -0.051192656, -0.0...</td>\n",
       "      <td>[[0.020239493, -0.04506696, -0.007684184, 0.02...</td>\n",
       "    </tr>\n",
       "  </tbody>\n",
       "</table>\n",
       "</div>"
      ],
      "text/plain": [
       "   index  caseId    issue  issueArea  textID  year      caserRef  \\\n",
       "0      0   20153  80060.0        8.0   12665  1947  329 U.S. 585   \n",
       "1      1   20165  10170.0        1.0   12689  1947  330 U.S. 160   \n",
       "2      2   20166  20150.0        2.0   12690  1947  330 U.S. 169   \n",
       "3      3   20167  90460.0        9.0   12691  1947  330 U.S. 183   \n",
       "4      4   20168  90330.0        9.0   12692  1947  330 U.S. 212   \n",
       "\n",
       "                                           caseTitle  \\\n",
       "0       UNITED STATES v. THAYER-WEST POINT HOTEL CO.   \n",
       "1                             BOZZA v. UNITED STATES   \n",
       "2  CONFEDERATED BANDS OF UTE INDIANS v. UNITED ST...   \n",
       "3                                ANGEL v. BULLINGTON   \n",
       "4             CONE v. WEST VIRGINIA PULP & PAPER CO.   \n",
       "\n",
       "                                                 url source  extra  \\\n",
       "0  http://caselaw.findlaw.com/us-supreme-court/32...      F    NaN   \n",
       "1  http://caselaw.findlaw.com/us-supreme-court/33...      F    NaN   \n",
       "2  http://caselaw.findlaw.com/us-supreme-court/33...      F    NaN   \n",
       "3  http://caselaw.findlaw.com/us-supreme-court/33...      F    NaN   \n",
       "4  http://caselaw.findlaw.com/us-supreme-court/33...      F    NaN   \n",
       "\n",
       "                                                text  \\\n",
       "0  \\n\\nUnited States Supreme Court\\nUNITED STATES...   \n",
       "1  \\n\\nUnited States Supreme Court\\nBOZZA v. UNIT...   \n",
       "2  \\n\\nUnited States Supreme Court\\nCONFEDERATED ...   \n",
       "3  \\n\\nUnited States Supreme Court\\nANGEL v. BULL...   \n",
       "4  \\n\\nUnited States Supreme Court\\nCONE v. WEST ...   \n",
       "\n",
       "                                           sentences  \\\n",
       "0  [United States Supreme Court UNITED STATES v. ...   \n",
       "1  [United States Supreme Court BOZZA v. UNITED S...   \n",
       "2  [United States Supreme Court CONFEDERATED BAND...   \n",
       "3  [United States Supreme Court ANGEL v. BULLINGT...   \n",
       "4  [United States Supreme Court CONE v. WEST VIRG...   \n",
       "\n",
       "                                 use_vector_document  \\\n",
       "0  [-0.052659504, -0.053288158, 0.012535233, -0.0...   \n",
       "1  [-0.051812857, -0.05131605, -0.051742256, -0.0...   \n",
       "2  [-0.048780706, -0.049167294, -0.030382236, -0....   \n",
       "3  [-0.047752354, -0.047754914, -0.047755327, 0.0...   \n",
       "4  [-0.050865017, -0.05116918, -0.051192656, -0.0...   \n",
       "\n",
       "                               use_vectors_sentences  \n",
       "0  [[-0.047054432, -0.056670554, -0.053410795, -0...  \n",
       "1  [[0.019217297, -0.082953066, -0.05535124, 0.04...  \n",
       "2  [[-0.041424736, -0.034228966, -0.021963209, 0....  \n",
       "3  [[-0.048756346, -0.04744283, -0.009329788, -0....  \n",
       "4  [[0.020239493, -0.04506696, -0.007684184, 0.02...  "
      ]
     },
     "execution_count": 5,
     "metadata": {},
     "output_type": "execute_result"
    }
   ],
   "source": [
    "print(len(labeled_test_df))\n",
    "labeled_test_df.head()"
   ]
  },
  {
   "cell_type": "code",
   "execution_count": 6,
   "metadata": {},
   "outputs": [],
   "source": [
    "from sklearn.model_selection import train_test_split\n",
    "#Split the fuzzy matched records to be mixed in with training, the other half exclusively for testin\n",
    "train_labeled, test_labeled = train_test_split(labeled_test_df, test_size=0.5)"
   ]
  },
  {
   "cell_type": "code",
   "execution_count": 7,
   "metadata": {},
   "outputs": [],
   "source": [
    "import numpy as np\n",
    "from sklearn.preprocessing import label_binarize\n",
    "import tensorflow as tf\n",
    "from sklearn.model_selection import train_test_split\n",
    "from sklearn.metrics import accuracy_score, precision_score, recall_score, f1_score, roc_curve, auc, confusion_matrix\n",
    "from scipy import interp\n",
    "from tensorflow.keras.preprocessing.sequence import pad_sequences\n"
   ]
  },
  {
   "cell_type": "code",
   "execution_count": 8,
   "metadata": {},
   "outputs": [
    {
     "name": "stdout",
     "output_type": "stream",
     "text": [
      "(4600, 512)\n"
     ]
    }
   ],
   "source": [
    "\n",
    "#Document Vectors\n",
    "training_semi_vectors = semi_training_df['use_vector_document'].tolist() + train_labeled['use_vector_document'].to_list()\n",
    "X_document = np.asarray(list(map(lambda x: np.asarray(x),training_semi_vectors)))\n",
    "print(X_document.shape)\n",
    "    "
   ]
  },
  {
   "cell_type": "code",
   "execution_count": 9,
   "metadata": {},
   "outputs": [
    {
     "name": "stdout",
     "output_type": "stream",
     "text": [
      "3657\n",
      "(4600, 3000)\n"
     ]
    }
   ],
   "source": [
    "#Pad sentence max norms to max length 3000 (max is 3567 sentences)\n",
    "def pad_sentence_vector(vectors_sentences):\n",
    "    training_max_features = []\n",
    "    for sentence_vect in vectors_sentences:\n",
    "        max_vector = []\n",
    "        for vector in sentence_vect:\n",
    "            #Max Norm of sentence vectors \n",
    "            max_vector.append(np.max(np.absolute(vector)))\n",
    "        training_max_features.append(np.asarray(max_vector))\n",
    "    X_max = np.asarray(training_max_features)    \n",
    "    X_max_padded = pad_sequences(X_max, maxlen=3000, dtype='int32', padding='pre', truncating='pre',\n",
    "        value=0.0)\n",
    "    return X_max_padded\n",
    "\n",
    "# Max features\n",
    "training_semi_vectors_sentences = semi_training_df['use_vectors_sentences'].tolist() +  train_labeled['use_vectors_sentences'].to_list()\n",
    "no_sentences_doc = []\n",
    "for sentence_list in training_semi_vectors_sentences:\n",
    "    no_sentences_doc.append(len(sentence_list))\n",
    "print(np.max(no_sentences_doc))\n",
    "X_max_padded = pad_sentence_vector(training_semi_vectors_sentences)\n",
    "\n",
    "print(X_max_padded.shape)"
   ]
  },
  {
   "cell_type": "code",
   "execution_count": 10,
   "metadata": {},
   "outputs": [
    {
     "name": "stdout",
     "output_type": "stream",
     "text": [
      "(4600, 3512)\n"
     ]
    }
   ],
   "source": [
    "#Concatenate the document vector and the sentence max norm\n",
    "X = np.concatenate([X_document,X_max_padded ], axis=1)\n",
    "print(X.shape)"
   ]
  },
  {
   "cell_type": "code",
   "execution_count": 11,
   "metadata": {},
   "outputs": [
    {
     "name": "stdout",
     "output_type": "stream",
     "text": [
      "{1.0, 2.0, 3.0, 4.0, 5.0, 6.0, 7.0, 8.0, 9.0, 10.0, 11.0, 12.0, 13.0}\n"
     ]
    }
   ],
   "source": [
    "#Get the labels\n",
    "y = np.asarray(semi_training_df['issueArea'].to_list() + train_labeled['issueArea'].to_list())\n",
    "print(set(y))"
   ]
  },
  {
   "cell_type": "code",
   "execution_count": 12,
   "metadata": {},
   "outputs": [
    {
     "name": "stdout",
     "output_type": "stream",
     "text": [
      "(786, 3512)\n",
      "{1.0, 2.0, 3.0, 4.0, 5.0, 6.0, 7.0, 8.0, 9.0, 10.0, 11.0, 12.0, 13.0}\n",
      "(786,)\n"
     ]
    }
   ],
   "source": [
    "#Get features and labels for the test set\n",
    "test_X_1= test_labeled['use_vector_document'].tolist()\n",
    "test_X_2= pad_sentence_vector(test_labeled['use_vectors_sentences'].to_list())\n",
    "X_performance = np.concatenate([test_X_1,test_X_2 ], axis=1)\n",
    "print(X_performance.shape)\n",
    "y_performance_labels=np.array(test_labeled['issueArea'].tolist())\n",
    "print(set(y_performance_labels))\n",
    "print(y_performance_labels.shape)"
   ]
  },
  {
   "cell_type": "code",
   "execution_count": 13,
   "metadata": {},
   "outputs": [
    {
     "name": "stderr",
     "output_type": "stream",
     "text": [
      "c:\\users\\u0155811\\.conda\\envs\\tf-gpu\\lib\\site-packages\\sklearn\\model_selection\\_split.py:667: UserWarning: The least populated class in y has only 3 members, which is less than n_splits=5.\n",
      "  % (min_groups, self.n_splits)), UserWarning)\n"
     ]
    },
    {
     "name": "stdout",
     "output_type": "stream",
     "text": [
      "dict_keys(['fit_time', 'score_time', 'estimator', 'test_score'])\n"
     ]
    }
   ],
   "source": [
    "    from sklearn import svm\n",
    "    from sklearn.metrics import classification_report\n",
    "from sklearn.model_selection import cross_validate\n",
    "from sklearn import metrics\n",
    "\n",
    "#Train the SVM model using a poly (degree=3 by default) kernel with C=1.0\n",
    "svm_best_model = svm.SVC(kernel='poly', C=1.0,probability=True)\n",
    "scores = cross_validate(svm_best_model, X, y, cv=5, scoring='f1_macro', return_estimator=True)\n",
    "print(scores.keys())\n"
   ]
  },
  {
   "cell_type": "code",
   "execution_count": 14,
   "metadata": {},
   "outputs": [
    {
     "name": "stdout",
     "output_type": "stream",
     "text": [
      "[0.55558345 0.57558796 0.50733375 0.51242114 0.54588993]\n",
      "1\n"
     ]
    }
   ],
   "source": [
    "test_scores = scores['test_score']\n",
    "max_test = np.argmax(test_scores)\n",
    "print(scores['test_score'])\n",
    "print(max_test)\n",
    "best_model = scores['estimator'][max_test]"
   ]
  },
  {
   "cell_type": "code",
   "execution_count": 15,
   "metadata": {},
   "outputs": [
    {
     "name": "stdout",
     "output_type": "stream",
     "text": [
      "              precision    recall  f1-score   support\n",
      "\n",
      "         1.0       0.77      0.97      0.86       397\n",
      "         2.0       0.81      0.51      0.62        91\n",
      "         3.0       0.83      0.82      0.82        71\n",
      "         4.0       1.00      0.19      0.31        27\n",
      "         5.0       0.00      0.00      0.00         3\n",
      "         6.0       1.00      0.33      0.50         3\n",
      "         7.0       1.00      1.00      1.00         2\n",
      "         8.0       0.65      0.68      0.67        66\n",
      "         9.0       0.78      0.39      0.52        71\n",
      "        10.0       0.56      0.50      0.53        10\n",
      "        11.0       0.92      0.80      0.86        15\n",
      "        12.0       0.82      0.62      0.71        29\n",
      "        13.0       0.00      0.00      0.00         1\n",
      "\n",
      "    accuracy                           0.77       786\n",
      "   macro avg       0.70      0.52      0.57       786\n",
      "weighted avg       0.78      0.77      0.75       786\n",
      "\n"
     ]
    },
    {
     "name": "stderr",
     "output_type": "stream",
     "text": [
      "c:\\users\\u0155811\\.conda\\envs\\tf-gpu\\lib\\site-packages\\sklearn\\metrics\\_classification.py:1272: UndefinedMetricWarning: Precision and F-score are ill-defined and being set to 0.0 in labels with no predicted samples. Use `zero_division` parameter to control this behavior.\n",
      "  _warn_prf(average, modifier, msg_start, len(result))\n"
     ]
    }
   ],
   "source": [
    "#Predict the test set\n",
    "y_performance_pred = best_model.predict(X_performance)\n",
    "#Get the classification report for test set\n",
    "cr= classification_report(y_performance_labels, y_performance_pred) \n",
    "\n",
    "print(cr)"
   ]
  },
  {
   "cell_type": "code",
   "execution_count": 19,
   "metadata": {},
   "outputs": [],
   "source": [
    "#Save  Model\n",
    "import pickle\n",
    "with open('svm_model.pickle', 'wb') as handle:\n",
    "    pickle.dump(best_model, handle)"
   ]
  },
  {
   "cell_type": "code",
   "execution_count": 20,
   "metadata": {},
   "outputs": [
    {
     "name": "stdout",
     "output_type": "stream",
     "text": [
      "0.7396573604060912\n"
     ]
    },
    {
     "name": "stderr",
     "output_type": "stream",
     "text": [
      "c:\\users\\u0155811\\.conda\\envs\\tf-gpu\\lib\\site-packages\\dc_stat_think\\dc_stat_think.py:498: NumbaWarning: \u001b[1m\n",
      "Compilation is falling back to object mode WITH looplifting enabled because Function \"_draw_bs_pairs\" failed type inference due to: \u001b[1m\u001b[1m\u001b[1mInvalid use of type(CPUDispatcher(<function _make_two_arg_numba_func.<locals>.f at 0x0000022A4A405CA8>)) with parameters (array(float64, 1d, C), array(float64, 1d, C), Tuple())\n",
      " * parameterized\u001b[0m\n",
      "\u001b[0m\u001b[1m[1] During: resolving callee type: type(CPUDispatcher(<function _make_two_arg_numba_func.<locals>.f at 0x0000022A4A405CA8>))\u001b[0m\n",
      "\u001b[0m\u001b[1m[2] During: typing of call at c:\\users\\u0155811\\.conda\\envs\\tf-gpu\\lib\\site-packages\\dc_stat_think\\dc_stat_think.py (510)\n",
      "\u001b[0m\n",
      "\u001b[1m\n",
      "File \"..\\..\\users\\u0155811\\.conda\\envs\\tf-gpu\\lib\\site-packages\\dc_stat_think\\dc_stat_think.py\", line 510:\u001b[0m\n",
      "\u001b[1m    def _draw_bs_pairs(x, y):\n",
      "        <source elided>\n",
      "            bs_x, bs_y = x[bs_inds], y[bs_inds]\n",
      "\u001b[1m            bs_replicates[i] = f(bs_x, bs_y, args)\n",
      "\u001b[0m            \u001b[1m^\u001b[0m\u001b[0m\n",
      "\u001b[0m\n",
      "  @numba.jit\n",
      "c:\\users\\u0155811\\.conda\\envs\\tf-gpu\\lib\\site-packages\\dc_stat_think\\dc_stat_think.py:498: NumbaWarning: \u001b[1m\n",
      "Compilation is falling back to object mode WITHOUT looplifting enabled because Function \"_draw_bs_pairs\" failed type inference due to: \u001b[1m\u001b[1mcannot determine Numba type of <class 'numba.core.dispatcher.LiftedLoop'>\u001b[0m\n",
      "\u001b[1m\n",
      "File \"..\\..\\users\\u0155811\\.conda\\envs\\tf-gpu\\lib\\site-packages\\dc_stat_think\\dc_stat_think.py\", line 507:\u001b[0m\n",
      "\u001b[1m    def _draw_bs_pairs(x, y):\n",
      "        <source elided>\n",
      "        # Generate replicates\n",
      "\u001b[1m        for i in range(size):\n",
      "\u001b[0m        \u001b[1m^\u001b[0m\u001b[0m\n",
      "\u001b[0m\u001b[0m\n",
      "  @numba.jit\n",
      "c:\\users\\u0155811\\.conda\\envs\\tf-gpu\\lib\\site-packages\\numba\\core\\object_mode_passes.py:178: NumbaWarning: \u001b[1mFunction \"_draw_bs_pairs\" was compiled in object mode without forceobj=True, but has lifted loops.\n",
      "\u001b[1m\n",
      "File \"..\\..\\users\\u0155811\\.conda\\envs\\tf-gpu\\lib\\site-packages\\dc_stat_think\\dc_stat_think.py\", line 501:\u001b[0m\n",
      "\u001b[1m    def _draw_bs_pairs(x, y):\n",
      "        <source elided>\n",
      "        # Set up array of indices to sample from\n",
      "\u001b[1m        inds = np.arange(n)\n",
      "\u001b[0m        \u001b[1m^\u001b[0m\u001b[0m\n",
      "\u001b[0m\n",
      "  state.func_ir.loc))\n",
      "c:\\users\\u0155811\\.conda\\envs\\tf-gpu\\lib\\site-packages\\numba\\core\\object_mode_passes.py:188: NumbaDeprecationWarning: \u001b[1m\n",
      "Fall-back from the nopython compilation path to the object mode compilation path has been detected, this is deprecated behaviour.\n",
      "\n",
      "For more information visit http://numba.pydata.org/numba-doc/latest/reference/deprecation.html#deprecation-of-object-mode-fall-back-behaviour-when-using-jit\n",
      "\u001b[1m\n",
      "File \"..\\..\\users\\u0155811\\.conda\\envs\\tf-gpu\\lib\\site-packages\\dc_stat_think\\dc_stat_think.py\", line 501:\u001b[0m\n",
      "\u001b[1m    def _draw_bs_pairs(x, y):\n",
      "        <source elided>\n",
      "        # Set up array of indices to sample from\n",
      "\u001b[1m        inds = np.arange(n)\n",
      "\u001b[0m        \u001b[1m^\u001b[0m\u001b[0m\n",
      "\u001b[0m\n",
      "  state.func_ir.loc))\n",
      "c:\\users\\u0155811\\.conda\\envs\\tf-gpu\\lib\\site-packages\\dc_stat_think\\dc_stat_think.py:498: NumbaWarning: \u001b[1m\n",
      "Compilation is falling back to object mode WITHOUT looplifting enabled because Function \"_draw_bs_pairs\" failed type inference due to: \u001b[1m\u001b[1m\u001b[1mInvalid use of type(CPUDispatcher(<function _make_two_arg_numba_func.<locals>.f at 0x0000022A4A405CA8>)) with parameters (array(float64, 1d, C), array(float64, 1d, C), Tuple())\n",
      " * parameterized\u001b[0m\n",
      "\u001b[0m\u001b[1m[1] During: resolving callee type: type(CPUDispatcher(<function _make_two_arg_numba_func.<locals>.f at 0x0000022A4A405CA8>))\u001b[0m\n",
      "\u001b[0m\u001b[1m[2] During: typing of call at c:\\users\\u0155811\\.conda\\envs\\tf-gpu\\lib\\site-packages\\dc_stat_think\\dc_stat_think.py (510)\n",
      "\u001b[0m\n",
      "\u001b[1m\n",
      "File \"..\\..\\users\\u0155811\\.conda\\envs\\tf-gpu\\lib\\site-packages\\dc_stat_think\\dc_stat_think.py\", line 510:\u001b[0m\n",
      "\u001b[1m    def _draw_bs_pairs(x, y):\n",
      "        <source elided>\n",
      "            bs_x, bs_y = x[bs_inds], y[bs_inds]\n",
      "\u001b[1m            bs_replicates[i] = f(bs_x, bs_y, args)\n",
      "\u001b[0m            \u001b[1m^\u001b[0m\u001b[0m\n",
      "\u001b[0m\n",
      "  @numba.jit\n",
      "c:\\users\\u0155811\\.conda\\envs\\tf-gpu\\lib\\site-packages\\numba\\core\\object_mode_passes.py:178: NumbaWarning: \u001b[1mFunction \"_draw_bs_pairs\" was compiled in object mode without forceobj=True.\n",
      "\u001b[1m\n",
      "File \"..\\..\\users\\u0155811\\.conda\\envs\\tf-gpu\\lib\\site-packages\\dc_stat_think\\dc_stat_think.py\", line 507:\u001b[0m\n",
      "\u001b[1m    def _draw_bs_pairs(x, y):\n",
      "        <source elided>\n",
      "        # Generate replicates\n",
      "\u001b[1m        for i in range(size):\n",
      "\u001b[0m        \u001b[1m^\u001b[0m\u001b[0m\n",
      "\u001b[0m\n",
      "  state.func_ir.loc))\n",
      "c:\\users\\u0155811\\.conda\\envs\\tf-gpu\\lib\\site-packages\\numba\\core\\object_mode_passes.py:188: NumbaDeprecationWarning: \u001b[1m\n",
      "Fall-back from the nopython compilation path to the object mode compilation path has been detected, this is deprecated behaviour.\n",
      "\n",
      "For more information visit http://numba.pydata.org/numba-doc/latest/reference/deprecation.html#deprecation-of-object-mode-fall-back-behaviour-when-using-jit\n",
      "\u001b[1m\n",
      "File \"..\\..\\users\\u0155811\\.conda\\envs\\tf-gpu\\lib\\site-packages\\dc_stat_think\\dc_stat_think.py\", line 507:\u001b[0m\n",
      "\u001b[1m    def _draw_bs_pairs(x, y):\n",
      "        <source elided>\n",
      "        # Generate replicates\n",
      "\u001b[1m        for i in range(size):\n",
      "\u001b[0m        \u001b[1m^\u001b[0m\u001b[0m\n",
      "\u001b[0m\n",
      "  state.func_ir.loc))\n"
     ]
    },
    {
     "name": "stdout",
     "output_type": "stream",
     "text": [
      "[0.50596615 0.82355144]\n",
      "0.7038904571849784\n",
      "0.0009229929370302183\n"
     ]
    },
    {
     "data": {
      "image/png": "[encoded data removed]",
      "text/plain": [
       "<Figure size 432x288 with 1 Axes>"
      ]
     },
     "metadata": {
      "needs_background": "light"
     },
     "output_type": "display_data"
    }
   ],
   "source": [
    "from scipy import stats\n",
    "import dc_stat_think as dcst\n",
    "import numpy as np\n",
    "import matplotlib.pyplot as plt\n",
    "# Add the label 13 which was missed in the splits\n",
    "f1_score = np.array([0.86,0.64, 0.79, 0.38, 0.29,0.33,0.67,0.67,0.42,0.25,0.78,0.74,0.0])\n",
    "support = np.array([423,78, 71, 20, 6,5,2,62,69,15,14,21,2])\n",
    "#Bootstrap sampling to calculate the confidence interval for f1-score\n",
    "def weighted_average(x, y):\n",
    "    return np.sum(x * y)/np.sum(y)\n",
    "\n",
    "def boostrap_weighted_avg(data,size):\n",
    "    return dcst.draw_bs_pairs(data, support, weighted_average, size=size)\n",
    "   \n",
    "    \n",
    "print(weighted_average(f1_score, support))\n",
    "bs_weighted_avg = boostrap_weighted_avg(f1_score, 10000)\n",
    "print(np.percentile(bs_weighted_avg, [2.5, 97.5]))\n",
    "print(np.mean(bs_weighted_avg))\n",
    "print(stats.sem(bs_weighted_avg, axis=None, ddof=0))\n",
    "plt.hist(bs_weighted_avg)\n",
    "plt.show()"
   ]
  },
  {
   "cell_type": "code",
   "execution_count": null,
   "metadata": {},
   "outputs": [],
   "source": []
  }
 ],
 "metadata": {
  "kernelspec": {
   "display_name": "Python 3",
   "language": "python",
   "name": "python3"
  },
  "language_info": {
   "codemirror_mode": {
    "name": "ipython",
    "version": 3
   },
   "file_extension": ".py",
   "mimetype": "text/x-python",
   "name": "python",
   "nbconvert_exporter": "python",
   "pygments_lexer": "ipython3",
   "version": "3.7.6"
  }
 },
 "nbformat": 4,
 "nbformat_minor": 4
}
